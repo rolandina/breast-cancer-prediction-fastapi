{
 "cells": [
  {
   "cell_type": "markdown",
   "id": "65ce5390",
   "metadata": {
    "toc": true
   },
   "source": [
    "<h1>Table of Contents<span class=\"tocSkip\"></span></h1>\n",
    "<div class=\"toc\"><ul class=\"toc-item\"><li><span><a href=\"#Explore-Dataset\" data-toc-modified-id=\"Explore-Dataset-1\"><span class=\"toc-item-num\">1&nbsp;&nbsp;</span>Explore Dataset</a></span><ul class=\"toc-item\"><li><span><a href=\"#Get-the-data\" data-toc-modified-id=\"Get-the-data-1.1\"><span class=\"toc-item-num\">1.1&nbsp;&nbsp;</span>Get the data</a></span></li><li><span><a href=\"#Description-of-data\" data-toc-modified-id=\"Description-of-data-1.2\"><span class=\"toc-item-num\">1.2&nbsp;&nbsp;</span>Description of data</a></span></li><li><span><a href=\"#Explore\" data-toc-modified-id=\"Explore-1.3\"><span class=\"toc-item-num\">1.3&nbsp;&nbsp;</span>Explore</a></span></li><li><span><a href=\"#Features-engineering\" data-toc-modified-id=\"Features-engineering-1.4\"><span class=\"toc-item-num\">1.4&nbsp;&nbsp;</span>Features engineering</a></span></li><li><span><a href=\"#Univariate-analysis\" data-toc-modified-id=\"Univariate-analysis-1.5\"><span class=\"toc-item-num\">1.5&nbsp;&nbsp;</span>Univariate analysis</a></span><ul class=\"toc-item\"><li><span><a href=\"#All-numerical-features\" data-toc-modified-id=\"All-numerical-features-1.5.1\"><span class=\"toc-item-num\">1.5.1&nbsp;&nbsp;</span>All numerical features</a></span></li><li><span><a href=\"#All-categorical-features\" data-toc-modified-id=\"All-categorical-features-1.5.2\"><span class=\"toc-item-num\">1.5.2&nbsp;&nbsp;</span>All categorical features</a></span></li><li><span><a href=\"#Target\" data-toc-modified-id=\"Target-1.5.3\"><span class=\"toc-item-num\">1.5.3&nbsp;&nbsp;</span>Target</a></span></li></ul></li><li><span><a href=\"#Bivariate-analysis\" data-toc-modified-id=\"Bivariate-analysis-1.6\"><span class=\"toc-item-num\">1.6&nbsp;&nbsp;</span>Bivariate analysis</a></span><ul class=\"toc-item\"><li><span><a href=\"#Tumor-size-&amp;-T-Stage-connection\" data-toc-modified-id=\"Tumor-size-&amp;-T-Stage-connection-1.6.1\"><span class=\"toc-item-num\">1.6.1&nbsp;&nbsp;</span>Tumor size &amp; T Stage connection</a></span></li><li><span><a href=\"#6th-Stade-&amp;-T-Stage-+-N-Stage\" data-toc-modified-id=\"6th-Stade-&amp;-T-Stage-+-N-Stage-1.6.2\"><span class=\"toc-item-num\">1.6.2&nbsp;&nbsp;</span>6th Stade &amp; T Stage + N Stage</a></span></li><li><span><a href=\"#N-Stage-&amp;-Number-of-nodes\" data-toc-modified-id=\"N-Stage-&amp;-Number-of-nodes-1.6.3\"><span class=\"toc-item-num\">1.6.3&nbsp;&nbsp;</span>N Stage &amp; Number of nodes</a></span></li><li><span><a href=\"#Grade-&amp;-differentiate\" data-toc-modified-id=\"Grade-&amp;-differentiate-1.6.4\"><span class=\"toc-item-num\">1.6.4&nbsp;&nbsp;</span>Grade &amp; differentiate</a></span></li><li><span><a href=\"#Grade-&amp;-A-Stage\" data-toc-modified-id=\"Grade-&amp;-A-Stage-1.6.5\"><span class=\"toc-item-num\">1.6.5&nbsp;&nbsp;</span>Grade &amp; A Stage</a></span></li><li><span><a href=\"#Tumor-size-&amp;-Survival-Months\" data-toc-modified-id=\"Tumor-size-&amp;-Survival-Months-1.6.6\"><span class=\"toc-item-num\">1.6.6&nbsp;&nbsp;</span>Tumor size &amp; Survival Months</a></span></li><li><span><a href=\"#Estrogen-status-&amp;--Positive-Node-Rate\" data-toc-modified-id=\"Estrogen-status-&amp;--Positive-Node-Rate-1.6.7\"><span class=\"toc-item-num\">1.6.7&nbsp;&nbsp;</span>Estrogen status &amp;  Positive Node Rate</a></span></li><li><span><a href=\"#T-Stage-&amp;-Positive-Node-Rate\" data-toc-modified-id=\"T-Stage-&amp;-Positive-Node-Rate-1.6.8\"><span class=\"toc-item-num\">1.6.8&nbsp;&nbsp;</span>T Stage &amp; Positive Node Rate</a></span></li></ul></li><li><span><a href=\"#Feature-importance\" data-toc-modified-id=\"Feature-importance-1.7\"><span class=\"toc-item-num\">1.7&nbsp;&nbsp;</span>Feature importance</a></span></li></ul></li><li><span><a href=\"#Modeling\" data-toc-modified-id=\"Modeling-2\"><span class=\"toc-item-num\">2&nbsp;&nbsp;</span>Modeling</a></span><ul class=\"toc-item\"><li><span><a href=\"#Prepare-data-for-model\" data-toc-modified-id=\"Prepare-data-for-model-2.1\"><span class=\"toc-item-num\">2.1&nbsp;&nbsp;</span>Prepare data for model</a></span></li><li><span><a href=\"#Balanced-data\" data-toc-modified-id=\"Balanced-data-2.2\"><span class=\"toc-item-num\">2.2&nbsp;&nbsp;</span>Balanced data</a></span></li><li><span><a href=\"#Save-model\" data-toc-modified-id=\"Save-model-2.3\"><span class=\"toc-item-num\">2.3&nbsp;&nbsp;</span>Save model</a></span></li></ul></li><li><span><a href=\"#Prediction\" data-toc-modified-id=\"Prediction-3\"><span class=\"toc-item-num\">3&nbsp;&nbsp;</span>Prediction</a></span><ul class=\"toc-item\"><li><span><a href=\"#Prepare-X_predict\" data-toc-modified-id=\"Prepare-X_predict-3.1\"><span class=\"toc-item-num\">3.1&nbsp;&nbsp;</span>Prepare X_predict</a></span></li><li><span><a href=\"#Transform-X\" data-toc-modified-id=\"Transform-X-3.2\"><span class=\"toc-item-num\">3.2&nbsp;&nbsp;</span>Transform X</a></span></li><li><span><a href=\"#Load-a-model\" data-toc-modified-id=\"Load-a-model-3.3\"><span class=\"toc-item-num\">3.3&nbsp;&nbsp;</span>Load a model</a></span></li><li><span><a href=\"#What-features-contribute-to-a-specific-person-being-classified-at-risk-of-breast-cancer?\" data-toc-modified-id=\"What-features-contribute-to-a-specific-person-being-classified-at-risk-of-breast-cancer?-3.4\"><span class=\"toc-item-num\">3.4&nbsp;&nbsp;</span>What features contribute to a specific person being classified at risk of breast cancer?</a></span></li></ul></li></ul></div>"
   ]
  },
  {
   "cell_type": "markdown",
   "id": "e9a7a401",
   "metadata": {},
   "source": [
    "## Explore Dataset"
   ]
  },
  {
   "cell_type": "markdown",
   "id": "b3e2f641",
   "metadata": {},
   "source": [
    "### Get the data\n",
    "\n",
    "We take the data from [kagle dataset](https://www.kaggle.com/datasets/reihanenamdari/breast-cancer?select=Breast_Cancer.csv)\n",
    "There are 16 columns (5 numericals and 11 categorical), the target value in this dataset is 'Status', which signs the status (alive or dead) of the patient with cancer.\n",
    "\n",
    "[Stage 6th explained](https://www.ncbi.nlm.nih.gov/books/NBK65858/table/CDR0000062687__584/)\n",
    "\n",
    "Using this dataset we intent to create a model to predict the status of the patient with breast cancer.\n",
    "As the target variables is binary variable I will use most famous classification models (decision tree, logistic, regression, naive bayes, gradient boost, and neural network) to create the final model.\n"
   ]
  },
  {
   "cell_type": "code",
   "execution_count": null,
   "id": "9672cf93",
   "metadata": {},
   "outputs": [],
   "source": [
    "#!pip install lightgbm\n",
    "#!pip install imblearn"
   ]
  },
  {
   "cell_type": "code",
   "execution_count": 1,
   "id": "58253da6",
   "metadata": {},
   "outputs": [],
   "source": [
    "import numpy as np\n",
    "import pandas as pd\n",
    "import matplotlib.pyplot as plt\n",
    "import seaborn as sns\n",
    "import os\n",
    "\n",
    "#set new palette for the seaborn plots\n",
    "pal  = sns.color_palette(\"Paired\",8)\n",
    "pal = [pal[3], pal[5], pal[1], pal[7], pal[2], pal[4], pal[0], pal[6]]\n",
    "sns.set_palette(pal)\n",
    "\n",
    "import warnings\n",
    "from pandas.core.common import SettingWithCopyWarning\n",
    "\n",
    "warnings.simplefilter(action=\"ignore\", category=SettingWithCopyWarning)"
   ]
  },
  {
   "cell_type": "code",
   "execution_count": 2,
   "id": "95ebe3f3",
   "metadata": {},
   "outputs": [
    {
     "name": "stdout",
     "output_type": "stream",
     "text": [
      "/home/smirnova/study/SIMPLON/projects/cancer_prediction\n",
      "/home/smirnova/study/SIMPLON/projects/cancer_prediction/notebooks\n",
      "/home/smirnova/study/SIMPLON/projects/cancer_prediction/data/\n",
      "/home/smirnova/study/SIMPLON/projects/cancer_prediction/models/\n"
     ]
    }
   ],
   "source": [
    "workdir = os.path.realpath('..')\n",
    "\n",
    "#define your own directory where you want to store data and models\n",
    "data_path = workdir + \"/data/\"\n",
    "models_path = workdir + \"/models/\"\n",
    "notebooks_path = os.path.realpath('.')\n",
    "print(workdir)\n",
    "print(notebooks_path)\n",
    "print(data_path)\n",
    "print(models_path)"
   ]
  },
  {
   "cell_type": "code",
   "execution_count": 3,
   "id": "ee8f3721",
   "metadata": {},
   "outputs": [],
   "source": [
    "# download the dataset\n"
   ]
  },
  {
   "cell_type": "code",
   "execution_count": 4,
   "id": "3d3bbf7c",
   "metadata": {},
   "outputs": [],
   "source": [
    "df = pd.read_csv(data_path + \"Breast_Cancer.csv\")"
   ]
  },
  {
   "cell_type": "code",
   "execution_count": 5,
   "id": "fca20dbd",
   "metadata": {},
   "outputs": [
    {
     "data": {
      "text/html": [
       "<div>\n",
       "<style scoped>\n",
       "    .dataframe tbody tr th:only-of-type {\n",
       "        vertical-align: middle;\n",
       "    }\n",
       "\n",
       "    .dataframe tbody tr th {\n",
       "        vertical-align: top;\n",
       "    }\n",
       "\n",
       "    .dataframe thead th {\n",
       "        text-align: right;\n",
       "    }\n",
       "</style>\n",
       "<table border=\"1\" class=\"dataframe\">\n",
       "  <thead>\n",
       "    <tr style=\"text-align: right;\">\n",
       "      <th></th>\n",
       "      <th>Age</th>\n",
       "      <th>Race</th>\n",
       "      <th>Marital Status</th>\n",
       "      <th>T Stage</th>\n",
       "      <th>N Stage</th>\n",
       "      <th>6th Stage</th>\n",
       "      <th>differentiate</th>\n",
       "      <th>Grade</th>\n",
       "      <th>A Stage</th>\n",
       "      <th>Tumor Size</th>\n",
       "      <th>Estrogen Status</th>\n",
       "      <th>Progesterone Status</th>\n",
       "      <th>Regional Node Examined</th>\n",
       "      <th>Reginol Node Positive</th>\n",
       "      <th>Survival Months</th>\n",
       "      <th>Status</th>\n",
       "    </tr>\n",
       "  </thead>\n",
       "  <tbody>\n",
       "    <tr>\n",
       "      <th>0</th>\n",
       "      <td>68</td>\n",
       "      <td>White</td>\n",
       "      <td>Married</td>\n",
       "      <td>T1</td>\n",
       "      <td>N1</td>\n",
       "      <td>IIA</td>\n",
       "      <td>Poorly differentiated</td>\n",
       "      <td>3</td>\n",
       "      <td>Regional</td>\n",
       "      <td>4</td>\n",
       "      <td>Positive</td>\n",
       "      <td>Positive</td>\n",
       "      <td>24</td>\n",
       "      <td>1</td>\n",
       "      <td>60</td>\n",
       "      <td>Alive</td>\n",
       "    </tr>\n",
       "    <tr>\n",
       "      <th>1</th>\n",
       "      <td>50</td>\n",
       "      <td>White</td>\n",
       "      <td>Married</td>\n",
       "      <td>T2</td>\n",
       "      <td>N2</td>\n",
       "      <td>IIIA</td>\n",
       "      <td>Moderately differentiated</td>\n",
       "      <td>2</td>\n",
       "      <td>Regional</td>\n",
       "      <td>35</td>\n",
       "      <td>Positive</td>\n",
       "      <td>Positive</td>\n",
       "      <td>14</td>\n",
       "      <td>5</td>\n",
       "      <td>62</td>\n",
       "      <td>Alive</td>\n",
       "    </tr>\n",
       "    <tr>\n",
       "      <th>2</th>\n",
       "      <td>58</td>\n",
       "      <td>White</td>\n",
       "      <td>Divorced</td>\n",
       "      <td>T3</td>\n",
       "      <td>N3</td>\n",
       "      <td>IIIC</td>\n",
       "      <td>Moderately differentiated</td>\n",
       "      <td>2</td>\n",
       "      <td>Regional</td>\n",
       "      <td>63</td>\n",
       "      <td>Positive</td>\n",
       "      <td>Positive</td>\n",
       "      <td>14</td>\n",
       "      <td>7</td>\n",
       "      <td>75</td>\n",
       "      <td>Alive</td>\n",
       "    </tr>\n",
       "    <tr>\n",
       "      <th>3</th>\n",
       "      <td>58</td>\n",
       "      <td>White</td>\n",
       "      <td>Married</td>\n",
       "      <td>T1</td>\n",
       "      <td>N1</td>\n",
       "      <td>IIA</td>\n",
       "      <td>Poorly differentiated</td>\n",
       "      <td>3</td>\n",
       "      <td>Regional</td>\n",
       "      <td>18</td>\n",
       "      <td>Positive</td>\n",
       "      <td>Positive</td>\n",
       "      <td>2</td>\n",
       "      <td>1</td>\n",
       "      <td>84</td>\n",
       "      <td>Alive</td>\n",
       "    </tr>\n",
       "    <tr>\n",
       "      <th>4</th>\n",
       "      <td>47</td>\n",
       "      <td>White</td>\n",
       "      <td>Married</td>\n",
       "      <td>T2</td>\n",
       "      <td>N1</td>\n",
       "      <td>IIB</td>\n",
       "      <td>Poorly differentiated</td>\n",
       "      <td>3</td>\n",
       "      <td>Regional</td>\n",
       "      <td>41</td>\n",
       "      <td>Positive</td>\n",
       "      <td>Positive</td>\n",
       "      <td>3</td>\n",
       "      <td>1</td>\n",
       "      <td>50</td>\n",
       "      <td>Alive</td>\n",
       "    </tr>\n",
       "  </tbody>\n",
       "</table>\n",
       "</div>"
      ],
      "text/plain": [
       "   Age   Race Marital Status T Stage  N Stage 6th Stage  \\\n",
       "0   68  White        Married       T1      N1       IIA   \n",
       "1   50  White        Married       T2      N2      IIIA   \n",
       "2   58  White       Divorced       T3      N3      IIIC   \n",
       "3   58  White        Married       T1      N1       IIA   \n",
       "4   47  White        Married       T2      N1       IIB   \n",
       "\n",
       "               differentiate Grade   A Stage  Tumor Size Estrogen Status  \\\n",
       "0      Poorly differentiated     3  Regional           4        Positive   \n",
       "1  Moderately differentiated     2  Regional          35        Positive   \n",
       "2  Moderately differentiated     2  Regional          63        Positive   \n",
       "3      Poorly differentiated     3  Regional          18        Positive   \n",
       "4      Poorly differentiated     3  Regional          41        Positive   \n",
       "\n",
       "  Progesterone Status  Regional Node Examined  Reginol Node Positive  \\\n",
       "0            Positive                      24                      1   \n",
       "1            Positive                      14                      5   \n",
       "2            Positive                      14                      7   \n",
       "3            Positive                       2                      1   \n",
       "4            Positive                       3                      1   \n",
       "\n",
       "   Survival Months Status  \n",
       "0               60  Alive  \n",
       "1               62  Alive  \n",
       "2               75  Alive  \n",
       "3               84  Alive  \n",
       "4               50  Alive  "
      ]
     },
     "execution_count": 5,
     "metadata": {},
     "output_type": "execute_result"
    }
   ],
   "source": [
    "df.head()"
   ]
  },
  {
   "cell_type": "markdown",
   "id": "e3f43759",
   "metadata": {},
   "source": [
    "### Description of data\n"
   ]
  },
  {
   "cell_type": "markdown",
   "id": "ce2b9457",
   "metadata": {},
   "source": [
    "The table consists from 16 columns and 4024 rows.\n",
    "\n",
    "**Columns**:\n",
    "- *15 features* \n",
    "  - 4 are numerical features:\n",
    "  - 9 are categorical features:\n",
    "  \n",
    "- *2 Target* - 'Status' - binary categories (Dead & Alive) and 'Survival Months' numerical features\n",
    "\n",
    "\n",
    "\n",
    "|N| Name      | Type |  Purpose | Range |\n",
    "|--| ----------- | ----------- | ---------- | ------------ |\n",
    "|1|  Age     | Numerical       | Feature | 30-69 \\[years\\] |\n",
    "|2|  Tumor Size     | Numerical       | Feature | 1-140 \\[mm\\]|\n",
    "|3|  Regional Node Examined    | Numerical       | Feature | 1-61 |\n",
    "|4|  Reginol Node Positive     | Numerical       | Feature | 1-46 |\n",
    "|5| T Stage   | Categorical        | Feature | 'T1' 'T2' 'T3' 'T4' |\n",
    "|6| N Stage   | Categorical        | Feature | 'N1' 'N2' 'N3' |\n",
    "|7| A Stage   | Categorical        | Feature | 'Regional' 'Distant' |\n",
    "|8| Stage 6th   | Categorical        | Feature | 'IIA' 'IIIA' 'IIIC' 'IIB' 'IIIB' |\n",
    "|9| Grade   | Categorical        | Feature | '3' '2' '1' ' anaplastic; Grade IV' |\n",
    "|10| differentiate   | Categorical        | Feature | 'Poorly differentiated' 'Moderately differentiated' 'Well differentiated' 'Undifferentiated' |\n",
    "|11| Estrogen Status   | Categorical        | Feature | 'Positive' 'Negative' |\n",
    "|12| Progesterone Status   | Categorical        | Feature |'Positive' 'Negative' |\n",
    "|13| Marital Status   | Categorical        | Feature | 'Married' 'Divorced' 'Single ' 'Widowed' 'Separated' |\n",
    "|14| Race   | Categorical        | Feature | 'White' 'Black' 'Other' |\n",
    "|15| Survival Months     | Numerical       | Target | 1-107 |\n",
    "|16| Status   | Categorical        | Target | Alive, Dead |\n",
    "\n",
    "\n",
    "\n",
    "**T Stage** (T1-T4) describe the size and location of the tumor, on a scale of 1 to 4. \n",
    "A larger tumor or a tumor that has grown deeper into nearby tissue will get a higher number.\n",
    "\n",
    "**N Stage** (N1,N2, N3) - The letter N and the number after it describe if cancer has affected the lymph nodes. \n",
    "The lymph nodes are small, bean-shaped organs that help fight infection. \n",
    "They are a common spot where cancer first spreads.\n",
    "\n",
    "**M Stage** - Metastasis stage M0 - no metastasis and M1 - there are metastasis (not presented in dataset)\n",
    "\n",
    "\n",
    "**Stage 6th** - Combination of TNM stages as shown on the picture\n",
    "![](https://www.researchgate.net/profile/Christopher-Hyde-2/publication/270965468/figure/tbl3/AS:613934277079097@1523384746589/Summary-of-TNM-stages_W640.jpg)\n",
    "\n",
    "**A Stage**\n",
    "\n",
    "**Grade == 'differentiate'**\n"
   ]
  },
  {
   "cell_type": "code",
   "execution_count": null,
   "id": "88315738",
   "metadata": {},
   "outputs": [],
   "source": [
    "df.info()"
   ]
  },
  {
   "cell_type": "code",
   "execution_count": null,
   "id": "4c06882f",
   "metadata": {},
   "outputs": [],
   "source": [
    "df.describe()"
   ]
  },
  {
   "cell_type": "code",
   "execution_count": null,
   "id": "14d1edf8",
   "metadata": {},
   "outputs": [],
   "source": [
    "num_columns = ['Age', 'Tumor Size', 'Regional Node Examined',\n",
    "       'Reginol Node Positive']\n",
    "cat_columns = ['Race', 'Marital Status', 'T Stage ', 'N Stage', '6th Stage',\n",
    "       'differentiate', 'Grade', 'A Stage', 'Estrogen Status',\n",
    "       'Progesterone Status']\n",
    "target = 'Status'\n",
    "# we drop  'Survival Months' column"
   ]
  },
  {
   "cell_type": "code",
   "execution_count": null,
   "id": "edbf5699",
   "metadata": {},
   "outputs": [],
   "source": [
    "for i in cat_columns:\n",
    "    #print(f\"Column - '{i}'\")\n",
    "    print(df[i].unique())\n",
    "    #print(f\"{df[i].value_counts()}\")\n",
    "    #print(\"\\n\")"
   ]
  },
  {
   "cell_type": "code",
   "execution_count": null,
   "id": "2564bddf",
   "metadata": {},
   "outputs": [],
   "source": [
    "df[\"Status\"].unique()"
   ]
  },
  {
   "cell_type": "markdown",
   "id": "a39a47ae",
   "metadata": {},
   "source": [
    "### Explore "
   ]
  },
  {
   "cell_type": "code",
   "execution_count": null,
   "id": "c7f93cee",
   "metadata": {},
   "outputs": [],
   "source": [
    "sns.pairplot(df, hue='Status')"
   ]
  },
  {
   "cell_type": "code",
   "execution_count": null,
   "id": "99c5e478",
   "metadata": {},
   "outputs": [],
   "source": [
    "sns.relplot(data=df, x='Age', y='Survival Months', hue='Status')"
   ]
  },
  {
   "cell_type": "markdown",
   "id": "2ca79baf",
   "metadata": {},
   "source": [
    "### Features engineering\n",
    "\n",
    "The idea is to create a new feature which will show the rate of positive node to all nodes examined."
   ]
  },
  {
   "cell_type": "code",
   "execution_count": null,
   "id": "f99212dc",
   "metadata": {},
   "outputs": [],
   "source": [
    "node_df = df[['Regional Node Examined', 'Reginol Node Positive', 'Status']].sort_values(by='Regional Node Examined')\n",
    "node_df.tail(10)"
   ]
  },
  {
   "cell_type": "code",
   "execution_count": null,
   "id": "f10fc993",
   "metadata": {},
   "outputs": [],
   "source": [
    "node_df['Positive Node Rate'] = df['Reginol Node Positive'] / df['Regional Node Examined']\n",
    "node_df.tail(10)"
   ]
  },
  {
   "cell_type": "code",
   "execution_count": 6,
   "id": "5641f39c",
   "metadata": {},
   "outputs": [],
   "source": [
    "df['Positive Node Rate'] = df['Reginol Node Positive'] / df['Regional Node Examined']"
   ]
  },
  {
   "cell_type": "markdown",
   "id": "8039f145",
   "metadata": {},
   "source": [
    "### Univariate analysis"
   ]
  },
  {
   "cell_type": "markdown",
   "id": "9a07622f",
   "metadata": {},
   "source": [
    "#### All numerical features"
   ]
  },
  {
   "cell_type": "code",
   "execution_count": null,
   "id": "342e1998",
   "metadata": {},
   "outputs": [],
   "source": [
    "def plot_numeric_features(df, target, max_num_classes = 5):\n",
    "            \n",
    "    \"\"\"Parameters:\n",
    "    plot_numerical_features(df, max_num_cat = 20)\n",
    "    df     - data frame with different types of features with target,\n",
    "    max_num_classes - number of classes in columns where the type is int by default = 5\n",
    "    \n",
    "    Output: display plots\"\"\"\n",
    "    \n",
    "    #condition for categorical features is the same as in plot_categoric_features()\n",
    "    cat_features = [column for column in df.columns if df[column].dtypes == \"object\" ] + \\\n",
    "    [column for column in df.columns if df[column].dtypes == \"int\" and len(df[column].unique())< max_num_classes]\n",
    "    num_features = [col for col in df.columns if col not in cat_features]\n",
    "    \n",
    "    if len(num_features)>0:\n",
    "\n",
    "        # gridspec inside gridspec\n",
    "        num_plots = len(num_features)\n",
    "        #you can change number of columns\n",
    "        cols = 3 \n",
    "        rows = num_plots//cols if num_plots%cols == 0 else num_plots//cols +1\n",
    "\n",
    "        fig = plt.figure(figsize = (cols*5,rows*3))\n",
    "        gs0 = gridspec.GridSpec(rows, cols, figure=fig)\n",
    "        for i,feature in enumerate(num_features):\n",
    "            gs00 = gridspec.GridSpecFromSubplotSpec(5, 1, subplot_spec=gs0[i])\n",
    "\n",
    "            ax1 = fig.add_subplot(gs00[0, :])\n",
    "            ax2 = fig.add_subplot(gs00[1:-1, :])\n",
    "\n",
    "            sns.boxplot(data=df, x=feature, ax=ax1)\n",
    "            sns.histplot(data=df, x=feature, hue = target, kde=True, ax=ax2)\n",
    "\n",
    "            #plt.subplots_adjust(wspace=0, hspace=0.1)\n",
    "            ax1.set(xlabel='')\n",
    "            ax1.tick_params(\n",
    "        axis='x',          # changes apply to the x-axis\n",
    "        which='both',      # both major and minor ticks are affected\n",
    "        bottom=False,      # ticks along the bottom edge are off\n",
    "        top=False,         # ticks along the top edge are off\n",
    "        labelbottom=False) # labels along the bottom edge are off\n",
    "            ax1.axis('off')\n",
    "            \n",
    "    else:\n",
    "        print('There are no numerical features in your dataset')\n",
    "\n"
   ]
  },
  {
   "cell_type": "code",
   "execution_count": null,
   "id": "095c2166",
   "metadata": {},
   "outputs": [],
   "source": [
    "plot_numeric_features(df, \"Status\")"
   ]
  },
  {
   "cell_type": "markdown",
   "id": "22d40d53",
   "metadata": {},
   "source": [
    "#### All categorical features"
   ]
  },
  {
   "cell_type": "code",
   "execution_count": null,
   "id": "155d621d",
   "metadata": {},
   "outputs": [],
   "source": [
    "import matplotlib.gridspec as gridspec\n",
    "def plot_categorical_features(df, target, max_num_classes = 5):  \n",
    "    \"\"\"Parameters:\n",
    "    df - data frame with different types of features with target,\n",
    "    target - name of the column of dependent feature\n",
    "    max_num_classes - max number of classes in categorical features (default = 5)\n",
    "    Output: display plots\"\"\"\n",
    "\n",
    "    # if target is categorical\n",
    "    #create df of categorical features\n",
    "    ## Attention on condition\n",
    "    CATEGORICAL_TARGET = False  # target is numerical by default\n",
    "    cat_features = [\n",
    "        column for column in df.columns if df[column].dtypes == \"object\"\n",
    "    ] + [\n",
    "        column for column in df.columns\n",
    "        if df[column].dtypes in [int, float] and len(df[column].unique()) < max_num_classes\n",
    "    ]\n",
    "\n",
    "    if target in cat_features:\n",
    "        CATEGORICAL_TARGET = True\n",
    "        cat_features.remove(target)\n",
    "\n",
    "    df_cat = df[cat_features]\n",
    "\n",
    "    if len(cat_features) > 0:\n",
    "\n",
    "        # gridspec inside gridspec\n",
    "        num_plots = len(cat_features)\n",
    "        #you can change number of columns\n",
    "        cols = 3\n",
    "        rows = num_plots // cols if num_plots % cols == 0 else num_plots // cols + 1\n",
    "\n",
    "        fig = plt.figure(figsize=(cols * 5, rows * 3))\n",
    "        gs0 = gridspec.GridSpec(rows, cols, figure=fig)\n",
    "        for i, feature in enumerate(cat_features):\n",
    "            gs00 = gridspec.GridSpecFromSubplotSpec(5, 1, subplot_spec=gs0[i])\n",
    "            ax1 = fig.add_subplot(gs00[:-1, :])\n",
    "            if CATEGORICAL_TARGET:\n",
    "\n",
    "                sns.countplot(data = df, x = feature, hue = target, dodge = True, ax=ax1)\n",
    "                ax1.set_xlabel(f\"{feature}\")\n",
    "                ax1.set_ylabel(\"frequency\")\n",
    "                if feature == 'differentiate':\n",
    "                    for tick in ax1.get_xticklabels():\n",
    "                        tick.set_rotation(10)\n",
    "            else:\n",
    "                sns.boxplot(data=df, x=feature, y=target, ax=ax1)\n",
    "                sns.stripplot(data=df,\n",
    "                            x=feature,\n",
    "                            y=target,\n",
    "                            ax=ax1,\n",
    "                            color=\".25\",\n",
    "                            size=2)  #swarmplots\n",
    "    else:\n",
    "        print('There are no categorical features in your dataset')    \n"
   ]
  },
  {
   "cell_type": "code",
   "execution_count": null,
   "id": "0e03ef27",
   "metadata": {},
   "outputs": [],
   "source": [
    "plot_categorical_features(df, \"Status\")"
   ]
  },
  {
   "cell_type": "markdown",
   "id": "57c82f4e",
   "metadata": {},
   "source": [
    "**What can we say about dataset**\n",
    "There are 6 times more records with status 'alive' than with status 'dead' that means that our dataset is strongly disbalance and we should not forget to balance the target before creating the model!\n",
    "Most of the women are white and married, having Tumor Size Stage T2, N Stage N1, and with regional localizated tumor. The estrogen and progesterone status are both positive. "
   ]
  },
  {
   "cell_type": "markdown",
   "id": "0b353934",
   "metadata": {},
   "source": [
    "#### Target"
   ]
  },
  {
   "cell_type": "code",
   "execution_count": null,
   "id": "99e0a99a",
   "metadata": {},
   "outputs": [],
   "source": [
    "sns.catplot( data=df, x= 'Status',kind=\"count\")"
   ]
  },
  {
   "cell_type": "markdown",
   "id": "10a344c4",
   "metadata": {},
   "source": [
    "**Conclustion**: We can see that the target variable is strongly disbalanced - there are 6 times more patients with 'alive' status than 'dead' status, that can lead to bias towards alive status model.\n",
    "To prevent this happends lets balance the dataset.\n",
    "\n",
    "The learning phase and the subsequent prediction of machine learning algorithms can be affected by the problem of imbalanced data set. The balancing issue corresponds to the difference of the number of samples in the different classes. We illustrate the effect of training a linear SVM classifier with different level of class balancing."
   ]
  },
  {
   "cell_type": "markdown",
   "id": "fa94f22d",
   "metadata": {},
   "source": [
    "### Bivariate analysis"
   ]
  },
  {
   "cell_type": "markdown",
   "id": "cdbf2990",
   "metadata": {},
   "source": [
    "#### Tumor size & T Stage connection"
   ]
  },
  {
   "cell_type": "code",
   "execution_count": null,
   "id": "6f33933b",
   "metadata": {},
   "outputs": [],
   "source": [
    "\n",
    "# num_columns = ['Age', 'Tumor Size', 'Regional Node Examined',\n",
    "#    'Reginol Node Positive', 'Survival Months']\n",
    "# cat_columns = ['Race', 'Marital Status', 'T Stage ', 'N Stage', '6th Stage',\n",
    "#    'differentiate', 'Grade', 'A Stage', 'Estrogen Status',\n",
    "#    'Progesterone Status']\n",
    "\n",
    "# Stages: 'T Stage ', 'N Stage', '6th Stage', 'A Stage', 'differentiate', 'Grade'\n",
    "\n",
    "# T Stage depends from size of the tumor\n",
    "sns.displot(data=df, x= \"Tumor Size\", hue = \"T Stage \")"
   ]
  },
  {
   "cell_type": "code",
   "execution_count": 39,
   "id": "3b798c4d",
   "metadata": {},
   "outputs": [],
   "source": [
    "def tumor_size_to_T_stage(ts):\n",
    "    if ts < 20.:\n",
    "        return 'T1'\n",
    "    elif ts >=20. and ts < 50.:\n",
    "        return 'T2'\n",
    "    elif ts >=50.:\n",
    "        return 'T3'"
   ]
  },
  {
   "cell_type": "markdown",
   "id": "06bc9e8f",
   "metadata": {},
   "source": [
    "#### 6th Stade & T Stage + N Stage"
   ]
  },
  {
   "cell_type": "code",
   "execution_count": 44,
   "id": "f5ea2618",
   "metadata": {},
   "outputs": [
    {
     "data": {
      "text/plain": [
       "'IIIC'"
      ]
     },
     "execution_count": 44,
     "metadata": {},
     "output_type": "execute_result"
    }
   ],
   "source": [
    "def tnm_to_stage_6th(t_stage, n_stage, m_stage = 'M0'):\n",
    "    tnm_to_stage_dict = {\n",
    "        \"T1N1\": \"IIA\",\n",
    "        \"T2N0\": \"IIA\",\n",
    "        \"T2N1\": \"IIB\",\n",
    "        \"T1N2\": \"IIIA\",\n",
    "        \"T2N2\": \"IIIA\",\n",
    "        \"T2N3\": \"IIIA\",\n",
    "        \"T3N1\": \"IIIA\",\n",
    "        \"T3N2\": \"IIIA\",\n",
    "        \"T4N1\": \"IIIB\",\n",
    "        \"T4N2\": \"IIIB\",\n",
    "        \"T4N3\": \"IIIB\",\n",
    "        \"T1N3\": \"IIIC\",\n",
    "        \"T2N3\": \"IIIC\",\n",
    "        \"T3N3\": \"IIIC\",\n",
    "        \"T4N3\": \"IIIC\",\n",
    "    }\n",
    "    tn_stage = t_stage + n_stage\n",
    "    return tnm_to_stage_dict[tn_stage]\n",
    "\n",
    "tnm_to_stage_6th('T2', 'N3')"
   ]
  },
  {
   "cell_type": "code",
   "execution_count": 45,
   "id": "ec955234",
   "metadata": {},
   "outputs": [
    {
     "data": {
      "text/plain": [
       "IIA     1305\n",
       "IIB     1130\n",
       "IIIA    1050\n",
       "IIIC     472\n",
       "IIIB      67\n",
       "Name: tnm_stage_tr, dtype: int64"
      ]
     },
     "execution_count": 45,
     "metadata": {},
     "output_type": "execute_result"
    }
   ],
   "source": [
    "tnm_df = df[['T Stage ', 'N Stage']]\n",
    "tnm_df['tnm_stage_tr'] = [tnm_to_stage_6th(t,n) for t,n in zip(tnm_df['T Stage '],tnm_df['N Stage'])]\n",
    "\n",
    "tnm_df['tnm_stage_tr'].value_counts()"
   ]
  },
  {
   "cell_type": "code",
   "execution_count": 46,
   "id": "7ed33418",
   "metadata": {},
   "outputs": [
    {
     "data": {
      "text/plain": [
       "IIA     1305\n",
       "IIB     1130\n",
       "IIIA    1050\n",
       "IIIC     472\n",
       "IIIB      67\n",
       "Name: 6th Stage, dtype: int64"
      ]
     },
     "execution_count": 46,
     "metadata": {},
     "output_type": "execute_result"
    }
   ],
   "source": [
    "df[\"6th Stage\"].value_counts()"
   ]
  },
  {
   "cell_type": "markdown",
   "id": "fe5bdaa9",
   "metadata": {},
   "source": [
    "**Conclusion**:\n",
    "We can see that our assumption about 6th stage variable was right and we know that it is a combination of two other features T Stage and N Stage."
   ]
  },
  {
   "cell_type": "markdown",
   "id": "3f9ee723",
   "metadata": {},
   "source": [
    "#### N Stage & Number of nodes\n",
    "Positive Node Rate and number of Regional Positive Nodes correlated with N Stage"
   ]
  },
  {
   "cell_type": "code",
   "execution_count": null,
   "id": "f313baaa",
   "metadata": {},
   "outputs": [],
   "source": [
    "#sns.displot(data=df, x= \"Positive Node Rate\", hue = \"N Stage\")\n",
    "\n",
    "sns.boxplot(data=df, x = \"N Stage\", y = \"Positive Node Rate\")#, hue= 'Status')"
   ]
  },
  {
   "cell_type": "code",
   "execution_count": 40,
   "id": "197861c7",
   "metadata": {},
   "outputs": [
    {
     "data": {
      "text/html": [
       "<div>\n",
       "<style scoped>\n",
       "    .dataframe tbody tr th:only-of-type {\n",
       "        vertical-align: middle;\n",
       "    }\n",
       "\n",
       "    .dataframe tbody tr th {\n",
       "        vertical-align: top;\n",
       "    }\n",
       "\n",
       "    .dataframe thead th {\n",
       "        text-align: right;\n",
       "    }\n",
       "</style>\n",
       "<table border=\"1\" class=\"dataframe\">\n",
       "  <thead>\n",
       "    <tr style=\"text-align: right;\">\n",
       "      <th></th>\n",
       "      <th>Positive Node Rate</th>\n",
       "      <th>stage</th>\n",
       "    </tr>\n",
       "  </thead>\n",
       "  <tbody>\n",
       "    <tr>\n",
       "      <th>0</th>\n",
       "      <td>0.041667</td>\n",
       "      <td>N1</td>\n",
       "    </tr>\n",
       "    <tr>\n",
       "      <th>1</th>\n",
       "      <td>0.357143</td>\n",
       "      <td>N2</td>\n",
       "    </tr>\n",
       "    <tr>\n",
       "      <th>2</th>\n",
       "      <td>0.500000</td>\n",
       "      <td>N2</td>\n",
       "    </tr>\n",
       "    <tr>\n",
       "      <th>3</th>\n",
       "      <td>0.500000</td>\n",
       "      <td>N2</td>\n",
       "    </tr>\n",
       "    <tr>\n",
       "      <th>4</th>\n",
       "      <td>0.333333</td>\n",
       "      <td>N2</td>\n",
       "    </tr>\n",
       "  </tbody>\n",
       "</table>\n",
       "</div>"
      ],
      "text/plain": [
       "   Positive Node Rate stage\n",
       "0            0.041667    N1\n",
       "1            0.357143    N2\n",
       "2            0.500000    N2\n",
       "3            0.500000    N2\n",
       "4            0.333333    N2"
      ]
     },
     "execution_count": 40,
     "metadata": {},
     "output_type": "execute_result"
    }
   ],
   "source": [
    "def positive_node_rate_to_N_stage(rate):\n",
    "    if rate < 0.27:\n",
    "        return 'N1'\n",
    "    elif (rate >=0.27 and rate < 0.57):\n",
    "        return 'N2'\n",
    "    else:\n",
    "        return 'N3'\n",
    "    \n",
    "positive_node_rate_to_N_stage(0.9)\n",
    "df_copy= df[['Positive Node Rate']]\n",
    "df_copy['stage']=[positive_node_rate_to_N_stage(r) for r in df_copy['Positive Node Rate'] ]\n",
    "df_copy.head()"
   ]
  },
  {
   "cell_type": "code",
   "execution_count": null,
   "id": "d002c51a",
   "metadata": {},
   "outputs": [],
   "source": [
    "sns.displot(data=df, x= \"Reginol Node Positive\", hue = \"N Stage\", kind=\"hist\")\n",
    "#plt.yscale(\"log\")"
   ]
  },
  {
   "cell_type": "code",
   "execution_count": null,
   "id": "44186c32",
   "metadata": {},
   "outputs": [],
   "source": [
    "\"Regional Node Examined\", 'Reginol Node Positive', 'Positive Node Rate', 'N Stage' 'Grade'\n",
    "\n",
    "sns.relplot(data=df, x='Regional Node Examined', y='Positive Node Rate', hue='N Stage', style='Grade')\n",
    "\n",
    "# Personnally I see outliers in N Stage classes  we could try to remove them from the data set before \n",
    "#"
   ]
  },
  {
   "cell_type": "markdown",
   "id": "3ba8f136",
   "metadata": {},
   "source": [
    "#### Grade & differentiate"
   ]
  },
  {
   "cell_type": "code",
   "execution_count": null,
   "id": "7a3a5b2d",
   "metadata": {},
   "outputs": [],
   "source": [
    "# Stages: \n",
    "#'T Stage ' (T1-T4)- correlates with tumor size 'Tumor Size'\n",
    "#'N Stage' (N1-N3) - correlates with number of nodes'Reginol Node Positive'\n",
    "#'6th Stage', ???\n",
    "#'A Stage' (regional/distant) - Metastasis, \n",
    "#'differentiate'=='Grade' (4 classes) stages of cancer combine different stages\n",
    "\n",
    "# Group Grade and differentiate\n",
    "df_grade_dif = df[[\"Grade\",'differentiate', 'Status']]\n",
    "df_grade_dif['Grade Dif'] = df.Grade.str.cat(df.differentiate)  \n",
    "print(df_grade_dif['Grade Dif'].unique())\n",
    "\n",
    "sns.catplot(data=df_grade_dif, x = 'Grade Dif', kind = \"count\", hue= 'Status', \n",
    "            order=['1Well differentiated', '2Moderately differentiated', '3Poorly differentiated',\n",
    "  ' anaplastic; Grade IVUndifferentiated'],\n",
    ")\n",
    "\n",
    "plt.xticks(rotation=10)\n",
    "plt.show()"
   ]
  },
  {
   "cell_type": "code",
   "execution_count": 41,
   "id": "90108dce",
   "metadata": {},
   "outputs": [],
   "source": [
    "def grade_to_differentiate(grade):\n",
    "    grade_to_differentiate_dict = {\n",
    "        '1': 'Well differentiated',\n",
    "        '2': 'Moderately differentiated',\n",
    "        '3': 'Poorly differentiated',\n",
    "        ' anaplastic; Grade IV': 'Undifferentiated'\n",
    "    }\n",
    "     \n",
    "    return grade_to_differentiate_dict[grade]\n",
    "    "
   ]
  },
  {
   "cell_type": "markdown",
   "id": "35f82dec",
   "metadata": {},
   "source": [
    "**Conclusion**: after groupping 2 differents features we still have 4 classes, that means they are identical and we can throw one of them as it doesn't bring new information to the model. We will drop 'differentiate' feature."
   ]
  },
  {
   "cell_type": "markdown",
   "id": "2cf5bc92",
   "metadata": {},
   "source": [
    "#### Grade & A Stage"
   ]
  },
  {
   "cell_type": "code",
   "execution_count": null,
   "id": "eb7f1ba8",
   "metadata": {},
   "outputs": [],
   "source": [
    "# Stages: 'T Stage ', 'N Stage', '6th Stage', 'A Stage', 'differentiate', 'Grade'\n",
    "\n",
    "# Group 'Grade' and 'A Stage'\n",
    "df_grade_a = df[[\"Grade\",'A Stage', 'Status']]\n",
    "df_grade_a['Grade A'] = df.Grade.str.cat(df['A Stage'])  \n",
    "print(df_grade_a['Grade A'].unique())\n",
    "\n",
    "\n",
    "sns.catplot(data=df_grade_a, x = 'Grade A', kind = \"count\", hue= 'Status',\n",
    "           order = [ '1Regional', '1Distant', '2Regional', '2Distant', '3Regional','3Distant',\n",
    " ' anaplastic; Grade IVRegional'])\n",
    "\n",
    "plt.xticks(rotation=90)\n",
    "\n",
    "# Display graph\n",
    "#plt.yscale(\"log\")\n",
    "plt.show()"
   ]
  },
  {
   "cell_type": "code",
   "execution_count": null,
   "id": "75f17f4c",
   "metadata": {},
   "outputs": [],
   "source": [
    "sns.boxplot(data=df, x = \"A Stage\", y = \"Positive Node Rate\", hue= 'Status')"
   ]
  },
  {
   "cell_type": "code",
   "execution_count": null,
   "id": "4bd6e45c",
   "metadata": {},
   "outputs": [],
   "source": [
    "# Stages: 'T Stage ', 'N Stage', '6th Stage', 'A Stage', 'differentiate', 'Grade'\n",
    "\n",
    "sns.catplot(data=df, x = '6th Stage', kind = \"count\", hue= 'Grade', \n",
    "            order=['IIA','IIB', 'IIIA', 'IIIB', 'IIIC'],\n",
    "           hue_order=[ '1','2', '3', ' anaplastic; Grade IV'])\n",
    "\n",
    "#plt.xticks(rotation=30)\n",
    "#plt.yscale(\"log\")\n",
    "#plt.show()"
   ]
  },
  {
   "cell_type": "markdown",
   "id": "b12b19f1",
   "metadata": {},
   "source": [
    "#### Tumor size & Survival Months "
   ]
  },
  {
   "cell_type": "code",
   "execution_count": null,
   "id": "d2b6ab68",
   "metadata": {},
   "outputs": [],
   "source": [
    "sns.displot(data=df, x=\"Tumor Size\", y= \"Survival Months\", hue=\"Status\", kind=\"kde\") "
   ]
  },
  {
   "cell_type": "code",
   "execution_count": null,
   "id": "34a8f5ad",
   "metadata": {},
   "outputs": [],
   "source": [
    "df['Positive Node Rate'] = df['Reginol Node Positive'] / df['Regional Node Examined']\n",
    "sns.relplot(data=df, x=\"Positive Node Rate\", y= \"Survival Months\", hue=\"Status\") \n"
   ]
  },
  {
   "cell_type": "markdown",
   "id": "4a8c69b9",
   "metadata": {},
   "source": [
    "#### Estrogen status &  Positive Node Rate"
   ]
  },
  {
   "cell_type": "code",
   "execution_count": null,
   "id": "27f78a31",
   "metadata": {},
   "outputs": [],
   "source": [
    "sns.boxplot(x='Estrogen Status', y='Positive Node Rate', hue = 'Status', data=df )"
   ]
  },
  {
   "cell_type": "markdown",
   "id": "64620a11",
   "metadata": {},
   "source": [
    "#### T Stage & Positive Node Rate"
   ]
  },
  {
   "cell_type": "code",
   "execution_count": null,
   "id": "e38bbed1",
   "metadata": {},
   "outputs": [],
   "source": [
    "sns.boxplot(x='T Stage ', y='Positive Node Rate', hue = 'Status', data=df )"
   ]
  },
  {
   "cell_type": "code",
   "execution_count": null,
   "id": "7293c309",
   "metadata": {},
   "outputs": [],
   "source": [
    "sns.boxplot(x='Grade', y='Positive Node Rate', hue = 'Status', data=df )"
   ]
  },
  {
   "cell_type": "markdown",
   "id": "c8758448",
   "metadata": {},
   "source": [
    "### Feature importance"
   ]
  },
  {
   "cell_type": "code",
   "execution_count": null,
   "id": "264c6d3e",
   "metadata": {},
   "outputs": [],
   "source": []
  },
  {
   "cell_type": "markdown",
   "id": "68e4bad7",
   "metadata": {},
   "source": [
    "## Modeling"
   ]
  },
  {
   "cell_type": "markdown",
   "id": "2e198d82",
   "metadata": {},
   "source": [
    "### Prepare data for model"
   ]
  },
  {
   "cell_type": "code",
   "execution_count": 7,
   "id": "86d248df",
   "metadata": {},
   "outputs": [],
   "source": [
    "drop_features = ['Marital Status', 'differentiate', 'Survival Months']\n",
    "\n",
    "num_features = ['Age', 'Tumor Size', 'Regional Node Examined',\n",
    "       'Reginol Node Positive', 'Positive Node Rate']\n",
    "cat_features = ['Race', 'T Stage ', 'N Stage', \n",
    "                '6th Stage', 'Grade', 'A Stage', \n",
    "                'Estrogen Status','Progesterone Status']\n",
    "ordinal_features = []\n",
    "\n",
    "target = 'Status'"
   ]
  },
  {
   "cell_type": "code",
   "execution_count": 8,
   "id": "15438924",
   "metadata": {},
   "outputs": [],
   "source": [
    "#preprocessing and model selection\n",
    "from sklearn.impute import SimpleImputer\n",
    "from sklearn.preprocessing import OneHotEncoder, OrdinalEncoder, LabelEncoder, StandardScaler, MinMaxScaler, RobustScaler, PowerTransformer, FunctionTransformer\n",
    "from sklearn.compose import ColumnTransformer, TransformedTargetRegressor\n",
    "from sklearn.model_selection import GridSearchCV, RandomizedSearchCV, RepeatedKFold, train_test_split, cross_val_score\n",
    "from sklearn.pipeline import Pipeline\n",
    "\n",
    "#classification models metrics\n",
    "from sklearn.metrics import classification_report, plot_precision_recall_curve\n",
    "\n",
    "#classification models\n",
    "from sklearn.linear_model import LogisticRegression\n",
    "from sklearn.neural_network import MLPClassifier\n",
    "from sklearn.ensemble import RandomForestClassifier\n",
    "from sklearn.svm import SVC\n",
    "from sklearn.neighbors import KNeighborsClassifier\n",
    "import lightgbm as lgb\n",
    "\n",
    "from sklearn import set_config\n",
    "set_config(display='diagram')"
   ]
  },
  {
   "cell_type": "code",
   "execution_count": 9,
   "id": "7ac2878d",
   "metadata": {},
   "outputs": [],
   "source": [
    "X = df.drop(['Status'], axis=1)\n",
    "y = df['Status']"
   ]
  },
  {
   "cell_type": "code",
   "execution_count": 10,
   "id": "8f007129",
   "metadata": {},
   "outputs": [
    {
     "name": "stdout",
     "output_type": "stream",
     "text": [
      "(4024, 30)\n"
     ]
    },
    {
     "data": {
      "text/plain": [
       "array([[ 1.56525337, -1.25366142,  1.19067633, ...,  1.        ,\n",
       "         0.        ,  1.        ],\n",
       "       [-0.44322226,  0.21434515, -0.04409458, ...,  1.        ,\n",
       "         0.        ,  1.        ],\n",
       "       [ 0.44943358,  1.54028657, -0.04409458, ...,  1.        ,\n",
       "         0.        ,  1.        ],\n",
       "       ...,\n",
       "       [ 1.56525337, -0.40127051, -0.41452585, ...,  1.        ,\n",
       "         1.        ,  0.        ],\n",
       "       [ 0.44943358,  0.64054061, -0.41452585, ...,  1.        ,\n",
       "         0.        ,  1.        ],\n",
       "       [-0.88955017, -0.0224301 , -0.90843421, ...,  1.        ,\n",
       "         0.        ,  1.        ]])"
      ]
     },
     "execution_count": 10,
     "metadata": {},
     "output_type": "execute_result"
    }
   ],
   "source": [
    "#create Pipeline with transformation for X\n",
    "\n",
    "\n",
    "le = LabelEncoder()\n",
    "y1 = le.fit_transform(y)\n",
    "\n",
    "\n",
    "numeric_scale_transformer = Pipeline(\n",
    "    steps=[('imputer', SimpleImputer(strategy='most_frequent')), \n",
    "           ('scaler', StandardScaler()),          \n",
    "          ])\n",
    "\n",
    "ordinal_transformer = Pipeline(steps=[\n",
    "    ('imputer1', SimpleImputer(strategy='constant', fill_value='absent')), \n",
    "    ('imputer2', SimpleImputer(missing_values = None, strategy='constant', fill_value='absent')),\n",
    "    ('ordenc', OrdinalEncoder()),\n",
    "    ('scaler', MinMaxScaler())])\n",
    "\n",
    "categorical_transformer = Pipeline(steps=[\n",
    "    ('imputer1', SimpleImputer(strategy='constant', fill_value='absent')), \n",
    "    ('imputer2', SimpleImputer(missing_values = None, strategy='constant', fill_value='absent')),\n",
    "    ('onehotenc', OneHotEncoder())])\n",
    "\n",
    "\n",
    "#############################################################\n",
    "preprocessor = ColumnTransformer(transformers=[\n",
    "    ('drop', 'drop', drop_features),\n",
    "    ('num_scal', numeric_scale_transformer, num_features),\n",
    "    ('cat', categorical_transformer, cat_features),\n",
    "    ('ordinal', ordinal_transformer, ordinal_features)\n",
    "])\n",
    "\n",
    "\n",
    "preprocessor.fit(X)\n",
    "X1 = preprocessor.transform(X)\n",
    "print(X1.shape)\n",
    "X1\n"
   ]
  },
  {
   "cell_type": "code",
   "execution_count": 11,
   "id": "4e303b22",
   "metadata": {},
   "outputs": [],
   "source": [
    "y_tt = le.inverse_transform(y1)\n",
    "#target classes to get the \n",
    "target_classes = le.classes_\n",
    "features_names = X.columns"
   ]
  },
  {
   "cell_type": "code",
   "execution_count": 12,
   "id": "a8686d98",
   "metadata": {},
   "outputs": [
    {
     "data": {
      "text/plain": [
       "Index(['Age', 'Race', 'Marital Status', 'T Stage ', 'N Stage', '6th Stage',\n",
       "       'differentiate', 'Grade', 'A Stage', 'Tumor Size', 'Estrogen Status',\n",
       "       'Progesterone Status', 'Regional Node Examined',\n",
       "       'Reginol Node Positive', 'Survival Months', 'Positive Node Rate'],\n",
       "      dtype='object')"
      ]
     },
     "execution_count": 12,
     "metadata": {},
     "output_type": "execute_result"
    }
   ],
   "source": [
    "features_names"
   ]
  },
  {
   "cell_type": "code",
   "execution_count": 13,
   "id": "d0c626d1",
   "metadata": {},
   "outputs": [
    {
     "data": {
      "text/plain": [
       "<AxesSubplot:ylabel='count'>"
      ]
     },
     "execution_count": 13,
     "metadata": {},
     "output_type": "execute_result"
    },
    {
     "data": {
      "image/png": "[encoded data removed]",
      "text/plain": [
       "<Figure size 432x288 with 1 Axes>"
      ]
     },
     "metadata": {
      "needs_background": "light"
     },
     "output_type": "display_data"
    }
   ],
   "source": [
    "#balancing target variable by removing samples from over-represented class.\n",
    "from imblearn.under_sampling import NearMiss\n",
    "\n",
    "nm = NearMiss()\n",
    "X_balanced, y_balanced = nm.fit_resample(X1, y1)\n",
    "\n",
    "sns.countplot(x=y_balanced)"
   ]
  },
  {
   "cell_type": "code",
   "execution_count": 14,
   "id": "a75b7734",
   "metadata": {},
   "outputs": [
    {
     "data": {
      "text/plain": [
       "0.5"
      ]
     },
     "execution_count": 14,
     "metadata": {},
     "output_type": "execute_result"
    }
   ],
   "source": [
    "y_balanced.mean()"
   ]
  },
  {
   "cell_type": "code",
   "execution_count": 15,
   "id": "637df85f",
   "metadata": {},
   "outputs": [],
   "source": [
    "X_train, X_test, y_train, y_test = train_test_split(X1, y1, test_size=0.25, random_state=42)\n",
    "X_train_b, X_test_b, y_train_b, y_test_b = train_test_split(X_balanced, y_balanced, test_size=0.25, random_state=42)"
   ]
  },
  {
   "cell_type": "markdown",
   "id": "47a3cd60",
   "metadata": {},
   "source": [
    "Chosing the model.\n",
    "Prediction whethere or not the patient has a cancer is a classification task.\n",
    "We will try to apply all existing classification model starting from \n",
    "Logistic Regression and Naive Bayes and finising with Stochastic Gradient Desent and Neural Network.\n",
    "\n",
    "As a metric we will use F1- score and log loss."
   ]
  },
  {
   "cell_type": "code",
   "execution_count": 16,
   "id": "1ecd07a0",
   "metadata": {},
   "outputs": [
    {
     "data": {
      "text/plain": [
       "{'C': 1.0,\n",
       " 'class_weight': None,\n",
       " 'dual': False,\n",
       " 'fit_intercept': True,\n",
       " 'intercept_scaling': 1,\n",
       " 'l1_ratio': None,\n",
       " 'max_iter': 100,\n",
       " 'multi_class': 'auto',\n",
       " 'n_jobs': None,\n",
       " 'penalty': 'l2',\n",
       " 'random_state': None,\n",
       " 'solver': 'lbfgs',\n",
       " 'tol': 0.0001,\n",
       " 'verbose': 0,\n",
       " 'warm_start': False}"
      ]
     },
     "execution_count": 16,
     "metadata": {},
     "output_type": "execute_result"
    }
   ],
   "source": [
    "# it is possible to add any model you want in the dictionary of models\n",
    "# just add model function and parameters for GridSearch corresponding to this model\n",
    "# like below\n",
    "LogisticRegression().get_params()"
   ]
  },
  {
   "cell_type": "code",
   "execution_count": 17,
   "id": "be5c761e",
   "metadata": {},
   "outputs": [],
   "source": [
    "model_lr = LogisticRegression(solver='liblinear')\n",
    "model_rf = RandomForestClassifier()\n",
    "model_lgb = lgb.LGBMClassifier(objective='binary')\n",
    "model_nn = MLPClassifier()\n",
    "model_svc = SVC()\n",
    "model_knn = KNeighborsClassifier()\n",
    "\n",
    "\n",
    "# parameters for Logistic Regression\n",
    "param_lr = {\n",
    "    'penalty':['l1','l2'],\n",
    "    'C':[0.01,0.1,0.5,0.9,1,5,10],\n",
    "    'tol':[1e-4,1e-2,1,1e2]\n",
    "}\n",
    "# parameters for Random Forest \n",
    "param_rf = {\n",
    "    'n_estimators':[50,100],\n",
    "    'criterion':['entropy'],\n",
    "    'min_samples_split':[2,5],\n",
    "    'max_depth':[None,2],\n",
    "    'min_samples_leaf':[1,3,10],\n",
    "    'max_features':['sqrt']\n",
    "}\n",
    "# parameters for Light Gradient Boosting Machine model\n",
    "param_lgb = {\n",
    "    'num_leaves':[32,64,128],\n",
    "    'colsample_bytree':[0.8,1],\n",
    "    'n_estimators':[100,150]\n",
    "}\n",
    "# parameters for KNeighborsClassifier\n",
    "param_knn = {'algorithm': ['auto'],\n",
    " 'leaf_size': [30],\n",
    " 'metric': ['minkowski'],\n",
    " 'metric_params': [None],\n",
    " 'n_jobs': [None],\n",
    " 'n_neighbors': [3,5,7],\n",
    " 'p': [2],\n",
    " 'weights': ['uniform', 'distance']}\n",
    "\n",
    "# parameters for Support Vector Machine Classifier\n",
    "param_svc = {'C': [0.1, 1.0, 5.0, 10.],\n",
    " 'degree': [3, 4, 5],\n",
    " 'kernel': ['linear', 'poly', 'rbf', 'sigmoid'],\n",
    " 'probability': [True],\n",
    "}\n",
    "# parameters for Multilayer Perceptron Classifier model\n",
    "param_nn = {'activation': ['relu'],\n",
    " 'alpha': [0.0001],\n",
    " 'batch_size': ['auto'],\n",
    " 'beta_1': [0.9],\n",
    " 'beta_2': [0.999],\n",
    " 'early_stopping': [False],\n",
    " 'epsilon': [1e-08],\n",
    " 'hidden_layer_sizes': [(100,), (48, 124), (50,50,50)],\n",
    " 'learning_rate': ['constant'],\n",
    " 'learning_rate_init': [0.001],\n",
    " 'max_fun': [15000],\n",
    " 'max_iter': [1000],\n",
    " 'momentum': [0.9],\n",
    " 'n_iter_no_change': [10],\n",
    " 'nesterovs_momentum': [True],\n",
    " 'power_t': [0.5],\n",
    " 'random_state': [None],\n",
    " 'shuffle': [True],\n",
    " 'solver': ['adam'],\n",
    " 'tol': [0.0001],\n",
    " 'validation_fraction': [0.1],\n",
    " 'verbose': [False],\n",
    " 'warm_start': [False]}\n",
    "\n",
    "models = {\n",
    "    model_lr : param_lr, \n",
    "          model_rf: param_rf, \n",
    "          model_lgb: param_lgb, \n",
    "          model_nn: param_nn, \n",
    "          model_knn: param_knn,\n",
    "          model_svc: param_svc}\n",
    "\n",
    "# create empty list for best models \n",
    "best_models = []\n",
    "best_models_balanced_data = []"
   ]
  },
  {
   "cell_type": "code",
   "execution_count": 18,
   "id": "d8259a3e",
   "metadata": {},
   "outputs": [],
   "source": [
    "for model in models.keys():\n",
    "\n",
    "    GSR = GridSearchCV(model, models[model], cv=6, scoring='accuracy', n_jobs=2)\n",
    "    GSR.fit(X_train, y_train)\n",
    "    best_models.append(GSR)\n",
    "\n"
   ]
  },
  {
   "cell_type": "code",
   "execution_count": 19,
   "id": "9f761b53",
   "metadata": {},
   "outputs": [],
   "source": [
    "for model in models.keys():\n",
    "\n",
    "    GSR_balanced = GridSearchCV(model, models[model], cv=6, scoring='accuracy', n_jobs=2)\n",
    "    GSR_balanced.fit(X_train_b, y_train_b)\n",
    "    best_models_balanced_data.append(GSR_balanced)"
   ]
  },
  {
   "cell_type": "code",
   "execution_count": 20,
   "id": "147c1f68",
   "metadata": {},
   "outputs": [
    {
     "name": "stdout",
     "output_type": "stream",
     "text": [
      "best_estimator: LogisticRegression(C=5, penalty='l1', solver='liblinear')\n",
      "best_param: {'C': 5, 'penalty': 'l1', 'tol': 0.0001}\n",
      "best_score: 0.8538767395626244\n",
      "              precision    recall  f1-score   support\n",
      "\n",
      "           0       0.88      0.98      0.93       863\n",
      "           1       0.65      0.17      0.27       143\n",
      "\n",
      "    accuracy                           0.87      1006\n",
      "   macro avg       0.76      0.58      0.60      1006\n",
      "weighted avg       0.84      0.87      0.83      1006\n",
      "\n",
      "best_estimator: RandomForestClassifier(criterion='entropy', min_samples_leaf=3)\n",
      "best_param: {'criterion': 'entropy', 'max_depth': None, 'max_features': 'sqrt', 'min_samples_leaf': 3, 'min_samples_split': 2, 'n_estimators': 100}\n",
      "best_score: 0.8492379058979456\n",
      "              precision    recall  f1-score   support\n",
      "\n",
      "           0       0.88      0.98      0.93       863\n",
      "           1       0.61      0.16      0.25       143\n",
      "\n",
      "    accuracy                           0.87      1006\n",
      "   macro avg       0.74      0.57      0.59      1006\n",
      "weighted avg       0.84      0.87      0.83      1006\n",
      "\n",
      "best_estimator: LGBMClassifier(colsample_bytree=1, num_leaves=32, objective='binary')\n",
      "best_param: {'colsample_bytree': 1, 'n_estimators': 100, 'num_leaves': 32}\n",
      "best_score: 0.837972166998012\n",
      "              precision    recall  f1-score   support\n",
      "\n",
      "           0       0.88      0.97      0.92       863\n",
      "           1       0.46      0.17      0.25       143\n",
      "\n",
      "    accuracy                           0.85      1006\n",
      "   macro avg       0.67      0.57      0.59      1006\n",
      "weighted avg       0.82      0.85      0.82      1006\n",
      "\n",
      "best_estimator: MLPClassifier(max_iter=1000)\n",
      "best_param: {'activation': 'relu', 'alpha': 0.0001, 'batch_size': 'auto', 'beta_1': 0.9, 'beta_2': 0.999, 'early_stopping': False, 'epsilon': 1e-08, 'hidden_layer_sizes': (100,), 'learning_rate': 'constant', 'learning_rate_init': 0.001, 'max_fun': 15000, 'max_iter': 1000, 'momentum': 0.9, 'n_iter_no_change': 10, 'nesterovs_momentum': True, 'power_t': 0.5, 'random_state': None, 'shuffle': True, 'solver': 'adam', 'tol': 0.0001, 'validation_fraction': 0.1, 'verbose': False, 'warm_start': False}\n",
      "best_score: 0.8223989396951624\n",
      "              precision    recall  f1-score   support\n",
      "\n",
      "           0       0.89      0.96      0.92       863\n",
      "           1       0.51      0.27      0.35       143\n",
      "\n",
      "    accuracy                           0.86      1006\n",
      "   macro avg       0.70      0.61      0.64      1006\n",
      "weighted avg       0.83      0.86      0.84      1006\n",
      "\n",
      "best_estimator: KNeighborsClassifier(n_neighbors=7)\n",
      "best_param: {'algorithm': 'auto', 'leaf_size': 30, 'metric': 'minkowski', 'metric_params': None, 'n_jobs': None, 'n_neighbors': 7, 'p': 2, 'weights': 'uniform'}\n",
      "best_score: 0.8366467859509609\n",
      "              precision    recall  f1-score   support\n",
      "\n",
      "           0       0.87      0.98      0.92       863\n",
      "           1       0.55      0.15      0.23       143\n",
      "\n",
      "    accuracy                           0.86      1006\n",
      "   macro avg       0.71      0.56      0.58      1006\n",
      "weighted avg       0.83      0.86      0.83      1006\n",
      "\n",
      "best_estimator: SVC(probability=True)\n",
      "best_param: {'C': 1.0, 'degree': 3, 'kernel': 'rbf', 'probability': True}\n",
      "best_score: 0.8495692511597084\n",
      "              precision    recall  f1-score   support\n",
      "\n",
      "           0       0.87      0.99      0.93       863\n",
      "           1       0.76      0.13      0.23       143\n",
      "\n",
      "    accuracy                           0.87      1006\n",
      "   macro avg       0.82      0.56      0.58      1006\n",
      "weighted avg       0.86      0.87      0.83      1006\n",
      "\n"
     ]
    }
   ],
   "source": [
    "for m in best_models:\n",
    "\n",
    "    print('best_estimator:' , m.best_estimator_)\n",
    "    print('best_param:', m.best_params_)\n",
    "    \n",
    "    print('best_score:', m.best_score_)\n",
    "    \n",
    "    pred = m.predict(X_test)\n",
    "    print(classification_report(y_test, pred))\n",
    "\n",
    "\n",
    "\n"
   ]
  },
  {
   "cell_type": "code",
   "execution_count": 21,
   "id": "c6cd71d1",
   "metadata": {},
   "outputs": [
    {
     "name": "stdout",
     "output_type": "stream",
     "text": [
      "best_estimator: LogisticRegression(C=5, penalty='l1', solver='liblinear', tol=0.01)\n",
      "best_param: {'C': 5, 'penalty': 'l1', 'tol': 0.01}\n",
      "best_score: 0.8701298701298702\n",
      "              precision    recall  f1-score   support\n",
      "\n",
      "           0       0.83      0.94      0.88       160\n",
      "           1       0.92      0.79      0.85       148\n",
      "\n",
      "    accuracy                           0.87       308\n",
      "   macro avg       0.87      0.86      0.87       308\n",
      "weighted avg       0.87      0.87      0.87       308\n",
      "\n",
      "best_estimator: RandomForestClassifier(criterion='entropy', min_samples_leaf=3)\n",
      "best_param: {'criterion': 'entropy', 'max_depth': None, 'max_features': 'sqrt', 'min_samples_leaf': 3, 'min_samples_split': 2, 'n_estimators': 100}\n",
      "best_score: 0.8647186147186147\n",
      "              precision    recall  f1-score   support\n",
      "\n",
      "           0       0.84      0.91      0.87       160\n",
      "           1       0.89      0.81      0.85       148\n",
      "\n",
      "    accuracy                           0.86       308\n",
      "   macro avg       0.86      0.86      0.86       308\n",
      "weighted avg       0.86      0.86      0.86       308\n",
      "\n",
      "best_estimator: LGBMClassifier(colsample_bytree=1, num_leaves=32, objective='binary')\n",
      "best_param: {'colsample_bytree': 1, 'n_estimators': 100, 'num_leaves': 32}\n",
      "best_score: 0.8333333333333334\n",
      "              precision    recall  f1-score   support\n",
      "\n",
      "           0       0.85      0.89      0.87       160\n",
      "           1       0.88      0.82      0.85       148\n",
      "\n",
      "    accuracy                           0.86       308\n",
      "   macro avg       0.86      0.86      0.86       308\n",
      "weighted avg       0.86      0.86      0.86       308\n",
      "\n",
      "best_estimator: MLPClassifier(max_iter=1000)\n",
      "best_param: {'activation': 'relu', 'alpha': 0.0001, 'batch_size': 'auto', 'beta_1': 0.9, 'beta_2': 0.999, 'early_stopping': False, 'epsilon': 1e-08, 'hidden_layer_sizes': (100,), 'learning_rate': 'constant', 'learning_rate_init': 0.001, 'max_fun': 15000, 'max_iter': 1000, 'momentum': 0.9, 'n_iter_no_change': 10, 'nesterovs_momentum': True, 'power_t': 0.5, 'random_state': None, 'shuffle': True, 'solver': 'adam', 'tol': 0.0001, 'validation_fraction': 0.1, 'verbose': False, 'warm_start': False}\n",
      "best_score: 0.8722943722943723\n",
      "              precision    recall  f1-score   support\n",
      "\n",
      "           0       0.83      0.93      0.87       160\n",
      "           1       0.91      0.79      0.84       148\n",
      "\n",
      "    accuracy                           0.86       308\n",
      "   macro avg       0.87      0.86      0.86       308\n",
      "weighted avg       0.87      0.86      0.86       308\n",
      "\n",
      "best_estimator: KNeighborsClassifier()\n",
      "best_param: {'algorithm': 'auto', 'leaf_size': 30, 'metric': 'minkowski', 'metric_params': None, 'n_jobs': None, 'n_neighbors': 5, 'p': 2, 'weights': 'uniform'}\n",
      "best_score: 0.8051948051948051\n",
      "              precision    recall  f1-score   support\n",
      "\n",
      "           0       0.77      0.93      0.84       160\n",
      "           1       0.90      0.70      0.79       148\n",
      "\n",
      "    accuracy                           0.82       308\n",
      "   macro avg       0.84      0.81      0.81       308\n",
      "weighted avg       0.83      0.82      0.82       308\n",
      "\n",
      "best_estimator: SVC(kernel='poly', probability=True)\n",
      "best_param: {'C': 1.0, 'degree': 3, 'kernel': 'poly', 'probability': True}\n",
      "best_score: 0.8679653679653679\n",
      "              precision    recall  f1-score   support\n",
      "\n",
      "           0       0.83      0.94      0.88       160\n",
      "           1       0.92      0.79      0.85       148\n",
      "\n",
      "    accuracy                           0.87       308\n",
      "   macro avg       0.87      0.86      0.87       308\n",
      "weighted avg       0.87      0.87      0.87       308\n",
      "\n",
      "********************\n",
      "Best model: MLPClassifier(max_iter=1000)\n"
     ]
    }
   ],
   "source": [
    "best_model = best_models_balanced_data[0]\n",
    "for m in best_models_balanced_data:\n",
    "    if best_model.best_score_ < m.best_score_ :\n",
    "        best_model = m\n",
    "    print('best_estimator:' , m.best_estimator_)\n",
    "    print('best_param:', m.best_params_)\n",
    "    \n",
    "    print('best_score:', m.best_score_)\n",
    "    \n",
    "    pred = m.predict(X_test_b)\n",
    "    print(classification_report(y_test_b, pred))\n",
    "    \n",
    "print(\"********************\")\n",
    "print(\"Best model:\", best_model.best_estimator_)"
   ]
  },
  {
   "cell_type": "code",
   "execution_count": 22,
   "id": "2386fc2f",
   "metadata": {},
   "outputs": [
    {
     "name": "stderr",
     "output_type": "stream",
     "text": [
      "/home/smirnova/miniconda3/envs/notebook/lib/python3.10/site-packages/sklearn/utils/deprecation.py:87: FutureWarning: Function plot_precision_recall_curve is deprecated; Function `plot_precision_recall_curve` is deprecated in 1.0 and will be removed in 1.2. Use one of the class methods: PrecisionRecallDisplay.from_predictions or PrecisionRecallDisplay.from_estimator.\n",
      "  warnings.warn(msg, category=FutureWarning)\n",
      "/home/smirnova/miniconda3/envs/notebook/lib/python3.10/site-packages/sklearn/utils/deprecation.py:87: FutureWarning: Function plot_precision_recall_curve is deprecated; Function `plot_precision_recall_curve` is deprecated in 1.0 and will be removed in 1.2. Use one of the class methods: PrecisionRecallDisplay.from_predictions or PrecisionRecallDisplay.from_estimator.\n",
      "  warnings.warn(msg, category=FutureWarning)\n",
      "/home/smirnova/miniconda3/envs/notebook/lib/python3.10/site-packages/sklearn/utils/deprecation.py:87: FutureWarning: Function plot_precision_recall_curve is deprecated; Function `plot_precision_recall_curve` is deprecated in 1.0 and will be removed in 1.2. Use one of the class methods: PrecisionRecallDisplay.from_predictions or PrecisionRecallDisplay.from_estimator.\n",
      "  warnings.warn(msg, category=FutureWarning)\n",
      "/home/smirnova/miniconda3/envs/notebook/lib/python3.10/site-packages/sklearn/utils/deprecation.py:87: FutureWarning: Function plot_precision_recall_curve is deprecated; Function `plot_precision_recall_curve` is deprecated in 1.0 and will be removed in 1.2. Use one of the class methods: PrecisionRecallDisplay.from_predictions or PrecisionRecallDisplay.from_estimator.\n",
      "  warnings.warn(msg, category=FutureWarning)\n",
      "/home/smirnova/miniconda3/envs/notebook/lib/python3.10/site-packages/sklearn/utils/deprecation.py:87: FutureWarning: Function plot_precision_recall_curve is deprecated; Function `plot_precision_recall_curve` is deprecated in 1.0 and will be removed in 1.2. Use one of the class methods: PrecisionRecallDisplay.from_predictions or PrecisionRecallDisplay.from_estimator.\n",
      "  warnings.warn(msg, category=FutureWarning)\n",
      "/home/smirnova/miniconda3/envs/notebook/lib/python3.10/site-packages/sklearn/utils/deprecation.py:87: FutureWarning: Function plot_precision_recall_curve is deprecated; Function `plot_precision_recall_curve` is deprecated in 1.0 and will be removed in 1.2. Use one of the class methods: PrecisionRecallDisplay.from_predictions or PrecisionRecallDisplay.from_estimator.\n",
      "  warnings.warn(msg, category=FutureWarning)\n"
     ]
    },
    {
     "data": {
      "image/png": "[encoded data removed]",
      "text/plain": [
       "<Figure size 720x720 with 1 Axes>"
      ]
     },
     "metadata": {
      "needs_background": "light"
     },
     "output_type": "display_data"
    }
   ],
   "source": [
    "fig = plt.figure(figsize=(10,10))\n",
    "ax = fig.gca()\n",
    "for m in best_models:\n",
    "    plot_precision_recall_curve(m.best_estimator_, X_test, y_test, ax=ax)\n"
   ]
  },
  {
   "cell_type": "markdown",
   "id": "b8947422",
   "metadata": {},
   "source": [
    "### Balanced data"
   ]
  },
  {
   "cell_type": "code",
   "execution_count": 23,
   "id": "f191ed54",
   "metadata": {},
   "outputs": [
    {
     "name": "stderr",
     "output_type": "stream",
     "text": [
      "/home/smirnova/miniconda3/envs/notebook/lib/python3.10/site-packages/sklearn/utils/deprecation.py:87: FutureWarning: Function plot_precision_recall_curve is deprecated; Function `plot_precision_recall_curve` is deprecated in 1.0 and will be removed in 1.2. Use one of the class methods: PrecisionRecallDisplay.from_predictions or PrecisionRecallDisplay.from_estimator.\n",
      "  warnings.warn(msg, category=FutureWarning)\n",
      "/home/smirnova/miniconda3/envs/notebook/lib/python3.10/site-packages/sklearn/utils/deprecation.py:87: FutureWarning: Function plot_precision_recall_curve is deprecated; Function `plot_precision_recall_curve` is deprecated in 1.0 and will be removed in 1.2. Use one of the class methods: PrecisionRecallDisplay.from_predictions or PrecisionRecallDisplay.from_estimator.\n",
      "  warnings.warn(msg, category=FutureWarning)\n",
      "/home/smirnova/miniconda3/envs/notebook/lib/python3.10/site-packages/sklearn/utils/deprecation.py:87: FutureWarning: Function plot_precision_recall_curve is deprecated; Function `plot_precision_recall_curve` is deprecated in 1.0 and will be removed in 1.2. Use one of the class methods: PrecisionRecallDisplay.from_predictions or PrecisionRecallDisplay.from_estimator.\n",
      "  warnings.warn(msg, category=FutureWarning)\n",
      "/home/smirnova/miniconda3/envs/notebook/lib/python3.10/site-packages/sklearn/utils/deprecation.py:87: FutureWarning: Function plot_precision_recall_curve is deprecated; Function `plot_precision_recall_curve` is deprecated in 1.0 and will be removed in 1.2. Use one of the class methods: PrecisionRecallDisplay.from_predictions or PrecisionRecallDisplay.from_estimator.\n",
      "  warnings.warn(msg, category=FutureWarning)\n",
      "/home/smirnova/miniconda3/envs/notebook/lib/python3.10/site-packages/sklearn/utils/deprecation.py:87: FutureWarning: Function plot_precision_recall_curve is deprecated; Function `plot_precision_recall_curve` is deprecated in 1.0 and will be removed in 1.2. Use one of the class methods: PrecisionRecallDisplay.from_predictions or PrecisionRecallDisplay.from_estimator.\n",
      "  warnings.warn(msg, category=FutureWarning)\n",
      "/home/smirnova/miniconda3/envs/notebook/lib/python3.10/site-packages/sklearn/utils/deprecation.py:87: FutureWarning: Function plot_precision_recall_curve is deprecated; Function `plot_precision_recall_curve` is deprecated in 1.0 and will be removed in 1.2. Use one of the class methods: PrecisionRecallDisplay.from_predictions or PrecisionRecallDisplay.from_estimator.\n",
      "  warnings.warn(msg, category=FutureWarning)\n"
     ]
    },
    {
     "data": {
      "image/png": "[encoded data removed]",
      "text/plain": [
       "<Figure size 720x720 with 1 Axes>"
      ]
     },
     "metadata": {
      "needs_background": "light"
     },
     "output_type": "display_data"
    }
   ],
   "source": [
    "fig = plt.figure(figsize=(10,10))\n",
    "ax = fig.gca()\n",
    "for m in best_models_balanced_data:\n",
    "    plot_precision_recall_curve(m.best_estimator_, X_test_b, y_test_b, ax=ax)\n"
   ]
  },
  {
   "cell_type": "markdown",
   "id": "568f6bac",
   "metadata": {},
   "source": [
    "### Save model"
   ]
  },
  {
   "cell_type": "code",
   "execution_count": 24,
   "id": "d7737bab",
   "metadata": {},
   "outputs": [],
   "source": [
    "import joblib\n",
    "import datetime as dt\n",
    "import json\n",
    "import os\n"
   ]
  },
  {
   "cell_type": "code",
   "execution_count": 25,
   "id": "c90f7678",
   "metadata": {},
   "outputs": [
    {
     "name": "stdout",
     "output_type": "stream",
     "text": [
      "matplotlib==3.5.2\n",
      "lightgbm==3.3.2\n",
      "numpy==1.22.4\n",
      "pandas==1.4.2\n",
      "scikit-learn==1.1.1\n",
      "joblib==1.1.0\n",
      "seaborn==0.11.2\n"
     ]
    }
   ],
   "source": [
    "import pkg_resources\n",
    "import types\n",
    "def get_imports():\n",
    "    for name, val in globals().items():\n",
    "        if isinstance(val, types.ModuleType):\n",
    "            # Split ensures you get root package, \n",
    "            # not just imported function\n",
    "            name = val.__name__.split(\".\")[0]\n",
    "\n",
    "        elif isinstance(val, type):\n",
    "            name = val.__module__.split(\".\")[0]\n",
    "\n",
    "        # Some packages are weird and have different\n",
    "        # imported names vs. system/pip names. Unfortunately,\n",
    "        # there is no systematic way to get pip names from\n",
    "        # a package's imported name. You'll have to add\n",
    "        # exceptions to this list manually!\n",
    "        poorly_named_packages = {\n",
    "            \"PIL\": \"Pillow\",\n",
    "            \"sklearn\": \"scikit-learn\"\n",
    "        }\n",
    "        if name in poorly_named_packages.keys():\n",
    "            name = poorly_named_packages[name]\n",
    "\n",
    "        yield name\n",
    "imports = list(set(get_imports()))\n",
    "\n",
    "# The only way I found to get the version of the root package\n",
    "# from only the name of the package is to cross-check the names \n",
    "# of installed packages vs. imported packages\n",
    "requirements = []\n",
    "for m in pkg_resources.working_set:\n",
    "    if m.project_name in imports and m.project_name!=\"pip\":\n",
    "        requirements.append((m.project_name, m.version))\n",
    "\n",
    "for r in requirements:\n",
    "    print(\"{}=={}\".format(*r))\n"
   ]
  },
  {
   "cell_type": "code",
   "execution_count": 26,
   "id": "54728800",
   "metadata": {},
   "outputs": [
    {
     "name": "stdout",
     "output_type": "stream",
     "text": [
      "[('matplotlib', '3.5.2'), ('lightgbm', '3.3.2'), ('numpy', '1.22.4'), ('pandas', '1.4.2'), ('scikit-learn', '1.1.1'), ('joblib', '1.1.0'), ('seaborn', '0.11.2')]\n"
     ]
    }
   ],
   "source": [
    "print(requirements)"
   ]
  },
  {
   "cell_type": "code",
   "execution_count": 27,
   "id": "5ba5b8bd",
   "metadata": {},
   "outputs": [
    {
     "data": {
      "text/plain": [
       "'05/09/2022'"
      ]
     },
     "execution_count": 27,
     "metadata": {},
     "output_type": "execute_result"
    }
   ],
   "source": [
    "dt.date.today().strftime(\"%d/%m/%Y\")"
   ]
  },
  {
   "cell_type": "code",
   "execution_count": 28,
   "id": "a03832f7",
   "metadata": {},
   "outputs": [],
   "source": [
    "info = {\n",
    "    \"model\": \n",
    "    {\"name\": type(best_model.best_estimator_).__name__,\n",
    "     \"params\": best_model.best_estimator_.get_params()}, \n",
    "    \"version\": 1.0,\n",
    "    \"balanced_data\": True,\n",
    "    \"balance_method\": \"NearMiss\",\n",
    "    \"date\":  dt.date.today().strftime(\"%d/%m/%Y\"), \n",
    "    \"requirements\": requirements}"
   ]
  },
  {
   "cell_type": "code",
   "execution_count": 30,
   "id": "493b1916",
   "metadata": {},
   "outputs": [
    {
     "name": "stdout",
     "output_type": "stream",
     "text": [
      "{'model': {'name': 'MLPClassifier', 'params': {'activation': 'relu', 'alpha': 0.0001, 'batch_size': 'auto', 'beta_1': 0.9, 'beta_2': 0.999, 'early_stopping': False, 'epsilon': 1e-08, 'hidden_layer_sizes': (100,), 'learning_rate': 'constant', 'learning_rate_init': 0.001, 'max_fun': 15000, 'max_iter': 1000, 'momentum': 0.9, 'n_iter_no_change': 10, 'nesterovs_momentum': True, 'power_t': 0.5, 'random_state': None, 'shuffle': True, 'solver': 'adam', 'tol': 0.0001, 'validation_fraction': 0.1, 'verbose': False, 'warm_start': False}}, 'version': 1.0, 'balanced_data': True, 'balance_method': 'NearMiss', 'date': '05/09/2022', 'requirements': [('matplotlib', '3.5.2'), ('lightgbm', '3.3.2'), ('numpy', '1.22.4'), ('pandas', '1.4.2'), ('scikit-learn', '1.1.1'), ('joblib', '1.1.0'), ('seaborn', '0.11.2')]}\n"
     ]
    }
   ],
   "source": [
    "print(info)"
   ]
  },
  {
   "cell_type": "code",
   "execution_count": 31,
   "id": "4df90f8d",
   "metadata": {},
   "outputs": [
    {
     "name": "stdout",
     "output_type": "stream",
     "text": [
      "/home/smirnova/study/SIMPLON/projects/cancer_prediction/models/breast_cancer_model_v2.sav\n",
      "/home/smirnova/study/SIMPLON/projects/cancer_prediction/models/breast_cancer_model_v2.json\n"
     ]
    }
   ],
   "source": [
    "# save the model to disk\n",
    "version = 2\n",
    "model_filename = f'breast_cancer_model_v{version}.sav'\n",
    "model_filepath = models_path + model_filename\n",
    "info_filename = f'breast_cancer_model_v{version}.json'\n",
    "info_filepath = models_path + info_filename\n",
    "print(model_filepath)\n",
    "print(info_filepath)"
   ]
  },
  {
   "cell_type": "code",
   "execution_count": 32,
   "id": "767a15a0",
   "metadata": {},
   "outputs": [],
   "source": [
    "#check the last version of the file\n",
    "\n",
    "# if info == info new -> dont overload the file\n",
    "# if info != info new -> create new version\n",
    "\n",
    "# if not exists - create v1\n",
    "# if exists - take the last version\n",
    "# check if info is changed or not \n",
    "# version ++ if info changed\n",
    "\n"
   ]
  },
  {
   "cell_type": "code",
   "execution_count": 33,
   "id": "f47c6072",
   "metadata": {},
   "outputs": [],
   "source": [
    "#dfgjkdfj"
   ]
  },
  {
   "cell_type": "code",
   "execution_count": 34,
   "id": "544f3617",
   "metadata": {},
   "outputs": [],
   "source": [
    "import json\n",
    "\n",
    "#save model \n",
    "joblib.dump(best_model.best_estimator_, model_filepath)\n",
    "#save model parameters\n",
    "with open(info_filepath, 'w') as fp:\n",
    "    json.dump(info, fp)"
   ]
  },
  {
   "cell_type": "code",
   "execution_count": null,
   "id": "b473b742",
   "metadata": {},
   "outputs": [],
   "source": []
  },
  {
   "cell_type": "markdown",
   "id": "6ac4213d",
   "metadata": {},
   "source": [
    "## Prediction"
   ]
  },
  {
   "cell_type": "code",
   "execution_count": 35,
   "id": "5cff4520",
   "metadata": {},
   "outputs": [],
   "source": [
    "#prepare X\n",
    "#transform X\n",
    "#load model\n",
    "#prediction"
   ]
  },
  {
   "cell_type": "markdown",
   "id": "1dd1df4e",
   "metadata": {},
   "source": [
    "### Prepare X_predict"
   ]
  },
  {
   "cell_type": "code",
   "execution_count": 36,
   "id": "056b6392",
   "metadata": {},
   "outputs": [
    {
     "data": {
      "text/plain": [
       "217.2759888327025"
      ]
     },
     "execution_count": 36,
     "metadata": {},
     "output_type": "execute_result"
    }
   ],
   "source": [
    "import random\n",
    "random.gauss(200,10)"
   ]
  },
  {
   "cell_type": "code",
   "execution_count": 47,
   "id": "1fd8fcd9",
   "metadata": {},
   "outputs": [],
   "source": [
    "#function\n",
    "\n",
    "# conditions for features (dependencies)\n",
    "# Number of positive nodes should be less than number of nodes examened\n",
    "import random\n",
    "def prepare_X_pred(X, N_rows):\n",
    "    \"\"\"Function prepare_X_pred prepares the sample X_pred from given X dataframe\n",
    "    It takes:\n",
    "    X <dataframe> with features \n",
    "    N_rows <int> number of rows in X_pred dataframe\n",
    "    \n",
    "    It returns:\n",
    "    X_pred <dataframe>\"\"\"\n",
    "    features_range = { col: X[col].unique() if type(X[col].unique()[0])== str else [0, X[col].mean(), X[col].std()] for col in X.columns}\n",
    "\n",
    "    # original features\n",
    "    \n",
    "    #derived features:\n",
    "    # - differentiate\n",
    "    # - 6th stage\n",
    "    # - regional node positive\n",
    "    # - T Stage (from Tumor Size)\n",
    "    # N Stage\n",
    "\n",
    "    #number of rows in X_pred\n",
    "    #reset X_pred to 0\n",
    "    X_pred = pd.DataFrame({ col : [0] for col in X.columns})\n",
    "    for i in range(N_rows):\n",
    "        for col in features_range.keys():\n",
    "            if features_range[col][0]==0:\n",
    "                X_pred.loc[i, col] = random.gauss(features_range[col][1], features_range[col][2])\n",
    "                if col != \"Positive Node Rate\":\n",
    "                    X_pred.loc[i, col] = int(X_pred.loc[i, col])\n",
    "            else:\n",
    "                X_pred.loc[i, col] = random.choice(features_range[col])\n",
    "    X_pred[\"Reginol Node Positive\"] = (X_pred[\"Regional Node Examined\"] * X_pred[\"Positive Node Rate\"]).astype('int')\n",
    "    X_pred['T Stage '] = [tumor_size_to_T_stage(ts) for ts in X_pred['Tumor Size']]\n",
    "    # tumor_size_to_T_stage(ts)\n",
    "    X_pred['N Stage'] = [positive_node_rate_to_N_stage(r) for r in X_pred['Positive Node Rate']]\n",
    "    X_pred['6th Stage'] = [tnm_to_stage_6th(t,n) for t,n in zip(X_pred['T Stage '], X_pred['N Stage'])]\n",
    "    X_pred['differentiate'] = [grade_to_differentiate(g) for g in X_pred['Grade']]\n",
    "    return X_pred"
   ]
  },
  {
   "cell_type": "code",
   "execution_count": 48,
   "id": "c0e9a721",
   "metadata": {},
   "outputs": [
    {
     "data": {
      "text/plain": [
       "<AxesSubplot:>"
      ]
     },
     "execution_count": 48,
     "metadata": {},
     "output_type": "execute_result"
    },
    {
     "data": {
      "image/png": "[encoded data removed]",
      "text/plain": [
       "<Figure size 432x288 with 1 Axes>"
      ]
     },
     "metadata": {
      "needs_background": "light"
     },
     "output_type": "display_data"
    }
   ],
   "source": [
    "X_pred = prepare_X_pred(X, 1000)\n",
    "X_pred.head()\n",
    "X_pred['Survival Months'].hist()"
   ]
  },
  {
   "cell_type": "markdown",
   "id": "eadcaff5",
   "metadata": {},
   "source": [
    "### Transform X"
   ]
  },
  {
   "cell_type": "code",
   "execution_count": 49,
   "id": "ecd9968c",
   "metadata": {},
   "outputs": [],
   "source": [
    "X_pred_tr = preprocessor.transform(X_pred)"
   ]
  },
  {
   "cell_type": "markdown",
   "id": "96e06141",
   "metadata": {},
   "source": [
    "### Load a model"
   ]
  },
  {
   "cell_type": "code",
   "execution_count": 50,
   "id": "075c4688",
   "metadata": {},
   "outputs": [],
   "source": [
    "# load the model from disk\n",
    "loaded_model = joblib.load(model_filepath)\n"
   ]
  },
  {
   "cell_type": "code",
   "execution_count": 51,
   "id": "a7d2de8f",
   "metadata": {},
   "outputs": [
    {
     "data": {
      "text/plain": [
       "array([[3.41519213e-09, 9.99999997e-01],\n",
       "       [7.50041316e-01, 2.49958684e-01],\n",
       "       [2.13856159e-08, 9.99999979e-01],\n",
       "       ...,\n",
       "       [1.55664854e-04, 9.99844335e-01],\n",
       "       [1.49330903e-09, 9.99999999e-01],\n",
       "       [2.33768273e-07, 9.99999766e-01]])"
      ]
     },
     "execution_count": 51,
     "metadata": {},
     "output_type": "execute_result"
    }
   ],
   "source": [
    "loaded_model.predict_proba(X_pred_tr)\n"
   ]
  },
  {
   "cell_type": "code",
   "execution_count": null,
   "id": "ff372766",
   "metadata": {},
   "outputs": [],
   "source": [
    "loaded_model."
   ]
  },
  {
   "cell_type": "code",
   "execution_count": null,
   "id": "8de05564",
   "metadata": {},
   "outputs": [],
   "source": [
    "\n",
    "\n",
    "# plt.figure(figsize=(28, 15))\n",
    "\n",
    "# coef =sum(loaded_model.coefs_)\n",
    "# indices_rl = np.argsort(coef)\n",
    "\n",
    "# plt.title('Feature Importances-MLP Coef')\n",
    "# plt.barh(X_scaled.columns, coef[indices_rl], .25, color='orange')\n",
    "# plt.yticks(X_scaled.columns, X_scaled.columns[indices_rl])\n",
    "# plt.xlabel('Coefficient(Beta)')\n",
    "\n",
    "# plt.show()\n",
    "\n",
    "\n",
    "\n",
    "#!pip install lime\n",
    "import lime\n",
    "from lime import lime_tabular\n",
    " \n",
    "lime_tabular.LimeTabularExplainer()\n",
    "explainer = lime.lime_tabular.LimeTabularExplainer(X[loaded_model.feature_name()].astype(int).values,  \n",
    "mode='classification',training_labels=df_titanic['Survived'],feature_names=model.feature_name())\n",
    "\n",
    "\n",
    "# asking for explanation for LIME model\n",
    "i = 1\n",
    "exp = explainer.explain_instance(df_titanic.loc[i,feat].astype(int).values, prob, num_features=5)\n",
    "\n",
    "exp.show_in_notebook(show_table=True)\n"
   ]
  },
  {
   "cell_type": "code",
   "execution_count": null,
   "id": "890930f2",
   "metadata": {},
   "outputs": [],
   "source": [
    "y_pred = loaded_model.predict(X_pred_tr)\n",
    "print(y_pred)"
   ]
  },
  {
   "cell_type": "code",
   "execution_count": null,
   "id": "4a376084",
   "metadata": {},
   "outputs": [],
   "source": [
    "y_pred = loaded_model.predict(X_test_b)"
   ]
  },
  {
   "cell_type": "code",
   "execution_count": null,
   "id": "3f15e335",
   "metadata": {},
   "outputs": [],
   "source": [
    "le.inverse_transform(y_pred)"
   ]
  },
  {
   "cell_type": "markdown",
   "id": "588ab707",
   "metadata": {},
   "source": [
    "### What features contribute to a specific person being classified at risk of breast cancer?"
   ]
  },
  {
   "cell_type": "code",
   "execution_count": null,
   "id": "736981cb",
   "metadata": {},
   "outputs": [],
   "source": []
  }
 ],
 "metadata": {
  "kernelspec": {
   "display_name": "notebook",
   "language": "python",
   "name": "notebook"
  },
  "language_info": {
   "codemirror_mode": {
    "name": "ipython",
    "version": 3
   },
   "file_extension": ".py",
   "mimetype": "text/x-python",
   "name": "python",
   "nbconvert_exporter": "python",
   "pygments_lexer": "ipython3",
   "version": "3.10.4"
  },
  "toc": {
   "base_numbering": 1,
   "nav_menu": {},
   "number_sections": true,
   "sideBar": true,
   "skip_h1_title": true,
   "title_cell": "Table of Contents",
   "title_sidebar": "Contents",
   "toc_cell": true,
   "toc_position": {
    "height": "calc(100% - 180px)",
    "left": "10px",
    "top": "150px",
    "width": "338.433px"
   },
   "toc_section_display": true,
   "toc_window_display": false
  }
 },
 "nbformat": 4,
 "nbformat_minor": 5
}
